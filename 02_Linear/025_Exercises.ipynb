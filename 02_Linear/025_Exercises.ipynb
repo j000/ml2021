{
 "cells": [
  {
   "cell_type": "markdown",
   "metadata": {},
   "source": [
    "# Exercises\n",
    "\n",
    "There are three exercises in this notebook:\n",
    "\n",
    "1. Use the cross-validation method to test the linear regression with different $\\alpha$ values, at least three.\n",
    "2. Implement a SGD method that will train the Lasso regression for 10 epochs.\n",
    "3. Extend the Fisher's classifier to work with two features. Use the class as the $y$."
   ]
  },
  {
   "cell_type": "code",
   "execution_count": null,
   "metadata": {},
   "outputs": [],
   "source": [
    "import numpy as np\n",
    "import matplotlib.pyplot as plt\n",
    "from sklearn.linear_model import Lasso\n",
    "\n",
    "plt.rcParams['figure.figsize'] = [12, 8]\n",
    "plt.rcParams['figure.dpi'] = 100 "
   ]
  },
  {
   "cell_type": "markdown",
   "metadata": {},
   "source": [
    "## 1. Cross-validation linear regression\n",
    "\n",
    "You need to change the variable ``alpha`` to be a list of alphas. Next do a loop and finally compare the results."
   ]
  },
  {
   "cell_type": "code",
   "execution_count": null,
   "metadata": {},
   "outputs": [],
   "source": [
    "def MSE(A, B):\n",
    "    return np.square(np.subtract(A, B)).mean()\n",
    "\n",
    "x = np.array([188, 181, 197, 168, 167, 187, 178, 194, 140, 176, 168, 192, 173, 142, 176]).reshape(-1, 1).reshape(15,1)\n",
    "y = np.array([141, 106, 149, 59, 79, 136, 65, 136, 52, 87, 115, 140, 82, 69, 121]).reshape(-1, 1).reshape(15,1)\n",
    "\n",
    "x = np.asmatrix(np.c_[np.ones((15,1)),x])\n",
    "\n",
    "I = np.identity(2)\n",
    "alpha = 0.1 # change here\n",
    "alphas = alpha * np.arange(3)\n",
    "\n",
    "# add 1-3 line of code here\n",
    "for alpha in alphas:\n",
    "    w = np.linalg.inv(x.T*x + alpha * I)*x.T*y\n",
    "    #w=w.ravel()\n",
    "    w = np.ravel(w)\n",
    "    plt.plot(x[:,1], x[:,1]*w[1]+w[0], label=alpha)\n",
    "    tmp = (x[:,1]*w[1]+w[0] - y)\n",
    "    error = MSE(y, x[:,1]*w[1]+w[0])\n",
    "    print(f'alpha {alpha:.1f}: MSE {error:.0f}')\n",
    "\n",
    "# add 1-3 lines to compare the results\n",
    "plt.scatter([x[:,1]], y, color='g')\n",
    "plt.legend()\n",
    "plt.show()\n",
    "\n"
   ]
  },
  {
   "cell_type": "markdown",
   "metadata": {},
   "source": [
    "# 2. Implement based on the Ridge regression example, the Lasso regression.\n",
    "\n",
    "Please implement the SGD method and compare the results with the sklearn Lasso regression results. "
   ]
  },
  {
   "cell_type": "code",
   "execution_count": null,
   "metadata": {},
   "outputs": [],
   "source": [
    "rng = np.random.default_rng()\n",
    "\n",
    "def sgd(x, y, l, alpha=0.001, num=2000):\n",
    "    w = np.array([[-5.3, 2.3]]) # new weights\n",
    "    n = y.size\n",
    "    for _ in range(num):\n",
    "        j = rng.integers(n)\n",
    "        pred = x[j] @ w.T\n",
    "        error = pred - y[j]\n",
    "        grad = x[j] * error\n",
    "        grad = 2 * alpha * grad\n",
    "        grad = grad + l * np.sign(w).reshape(-1,)\n",
    "        w = w - grad\n",
    "    return w\n",
    "\n",
    "N = 30\n",
    "x = np.arange(N).reshape(-1,1)\n",
    "x = np.insert(x, 0, 1, axis=1)\n",
    "w = np.array([[-5, 2.5]])\n",
    "print('target:', w)\n",
    "y = x @ w.T\n",
    "y = y + rng.normal(0, 2, size=y.shape)\n",
    "shuffle = rng.permutation(N)\n",
    "y = y[shuffle]\n",
    "x = x[shuffle]\n",
    "plt.scatter([x[:,1]], [y], label='org', zorder=3, c='springgreen')\n",
    "\n",
    "\n",
    "lasso_regression = Lasso(alpha=0.001)\n",
    "lasso_regression.fit(x[:,1:], y)\n",
    "w_l = np.stack((lasso_regression.intercept_, lasso_regression.coef_), axis=1)\n",
    "print('scikit:', w_l)\n",
    "plt.plot(x[:,1], x @ w_l.T, label=f'scikit', zorder=2, c='silver')\n",
    "\n",
    "for i, lam in enumerate([0, 0.1, 0.5, 0.8, 0.9, 0.95]):\n",
    "    print(f'lambda = {lam:.1f}:')\n",
    "    tmp = sgd(x, y, lam)\n",
    "    print('  w:', tmp)\n",
    "    plt.plot(x[:,1].T, x @ tmp.T, label=f'lambda {lam:.1f}', zorder=-i)\n",
    "\n",
    "plt.legend()\n",
    "plt.show()"
   ]
  },
  {
   "cell_type": "code",
   "execution_count": null,
   "metadata": {},
   "outputs": [],
   "source": [
    "x = np.array([188, 181, 197, 168, 167, 187, 178, 194, 140, 176, 168, 192, 173, 142, 176]).reshape(-1, 1).reshape(15,1)\n",
    "y = np.array([141, 106, 149, 59, 79, 136, 65, 136, 52, 87, 115, 140, 82, 69, 121]).reshape(-1, 1).reshape(15,1)\n",
    "\n",
    "x = np.c_[np.ones((15,1)),x]\n",
    "\n",
    "I = np.identity(2)\n",
    "alpha = 0.1 \n",
    "\n",
    "w2 = np.linalg.inv(x.T @ x + alpha * I) @ x.T @ y # update this line\n",
    "w2 = w2.ravel()\n",
    "w = sgd(x, y, 0.5, num=200)\n",
    "print(w2)\n",
    "print(w)\n",
    "\n",
    "plt.scatter(x[:,1], y, label='data')\n",
    "plt.plot(x[:,1], x @ w2.T, label='ridge', marker='.', c='r')\n",
    "plt.plot(x[:,1], x @ w.T, label='sgd', marker='o', c='orange')\n",
    "\n",
    "\n",
    "lasso_regression = Lasso(alpha=0.001)\n",
    "lasso_regression.fit(x[:,1:], y)\n",
    "w_l = np.stack((lasso_regression.intercept_, lasso_regression.coef_), axis=1)\n",
    "print('scikit:', w_l)\n",
    "plt.plot(x[:,1], x @ w_l.T, label=f'scikit', zorder=2, marker='o', c='silver')\n",
    "plt.show()"
   ]
  },
  {
   "cell_type": "markdown",
   "metadata": {},
   "source": [
    "## 3. Extend the Fisher's classifier\n",
    "\n",
    "Please extend the targets of the ``iris_data`` variable and use it as the $y$."
   ]
  },
  {
   "cell_type": "code",
   "execution_count": null,
   "metadata": {},
   "outputs": [],
   "source": [
    "import pandas as pd\n",
    "import numpy as np\n",
    "import matplotlib.pyplot as plt\n",
    "from sklearn.datasets import load_iris\n",
    "\n",
    "iris_data = load_iris()\n",
    "iris_df = pd.DataFrame(iris_data.data,columns=iris_data.feature_names)\n",
    "print(iris_df.head())\n",
    "\n",
    "x = iris_df[['sepal width (cm)', 'petal width (cm)']].values # change here\n",
    "y = iris_df[['sepal length (cm)', 'petal length (cm)']].values # change here\n",
    "\n",
    "dataset_size = np.size(x)\n",
    "\n",
    "mean_x, mean_y = np.mean(x), np.mean(y)\n",
    "\n",
    "SS_xy = np.sum(y * x) - dataset_size * mean_y * mean_x\n",
    "SS_xx = np.sum(x * x) - dataset_size * mean_x * mean_x\n",
    "\n",
    "a = SS_xy / SS_xx\n",
    "b = mean_y - a * mean_x\n",
    "\n",
    "\n",
    "y_pred = a * x + b"
   ]
  },
  {
   "cell_type": "code",
   "execution_count": null,
   "metadata": {},
   "outputs": [],
   "source": [
    "plt.scatter(x[:,0], y_pred[:,0])\n",
    "plt.scatter(x[:,0], y[:,0])\n",
    "plt.show()"
   ]
  },
  {
   "cell_type": "code",
   "execution_count": null,
   "metadata": {},
   "outputs": [],
   "source": [
    "plt.scatter(x[:,1], y_pred[:,1])\n",
    "plt.scatter(x[:,1], y[:,1])\n",
    "plt.show()"
   ]
  }
 ],
 "metadata": {
  "kernelspec": {
   "display_name": "Python 3",
   "language": "python",
   "name": "python3"
  },
  "language_info": {
   "codemirror_mode": {
    "name": "ipython",
    "version": 3
   },
   "file_extension": ".py",
   "mimetype": "text/x-python",
   "name": "python",
   "nbconvert_exporter": "python",
   "pygments_lexer": "ipython3",
   "version": "3.9.2"
  }
 },
 "nbformat": 4,
 "nbformat_minor": 4
}
